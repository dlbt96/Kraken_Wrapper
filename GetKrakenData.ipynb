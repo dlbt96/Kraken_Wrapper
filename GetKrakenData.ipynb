{
  "nbformat": 4,
  "nbformat_minor": 0,
  "metadata": {
    "colab": {
      "name": "GetKrakenData",
      "provenance": []
    },
    "kernelspec": {
      "name": "python3",
      "display_name": "Python 3"
    }
  },
  "cells": [
    {
      "cell_type": "code",
      "metadata": {
        "id": "DONk6ezmlNFD",
        "colab_type": "code",
        "colab": {}
      },
      "source": [
        "import requests\n",
        "import time, pytz, datetime\n",
        "import csv\n",
        "import numpy as np\n",
        "import pandas as pd"
      ],
      "execution_count": 0,
      "outputs": []
    },
    {
      "cell_type": "code",
      "metadata": {
        "id": "BHsVofFx8_mG",
        "colab_type": "code",
        "outputId": "e66c4ce3-b7d6-424f-dc1c-be448808ad3d",
        "colab": {
          "base_uri": "https://localhost:8080/",
          "height": 139
        }
      },
      "source": [
        "from google.colab import drive\n",
        "drive.mount('/content/drive/')\n",
        "%cd '/content/drive/My Drive/data/Kraken'"
      ],
      "execution_count": 0,
      "outputs": [
        {
          "output_type": "stream",
          "text": [
            "Go to this URL in a browser: https://accounts.google.com/o/oauth2/auth?client_id=947318989803-6bn6qk8qdgf4n4g3pfee6491hc0brc4i.apps.googleusercontent.com&redirect_uri=urn%3aietf%3awg%3aoauth%3a2.0%3aoob&response_type=code&scope=email%20https%3a%2f%2fwww.googleapis.com%2fauth%2fdocs.test%20https%3a%2f%2fwww.googleapis.com%2fauth%2fdrive%20https%3a%2f%2fwww.googleapis.com%2fauth%2fdrive.photos.readonly%20https%3a%2f%2fwww.googleapis.com%2fauth%2fpeopleapi.readonly\n",
            "\n",
            "Enter your authorization code:\n",
            "··········\n",
            "Mounted at /content/drive/\n",
            "/content/drive/My Drive/data/Kraken/ltcusd\n"
          ],
          "name": "stdout"
        }
      ]
    },
    {
      "cell_type": "code",
      "metadata": {
        "id": "ynT3ftmasAlO",
        "colab_type": "code",
        "colab": {}
      },
      "source": [
        "def _timestamp_to_datetime(timestamp):\n",
        "  return datetime.datetime.fromtimestamp(timestamp)\n",
        "\n",
        "def _datetime_to_str(dt,form):\n",
        "  \"\"\"\n",
        "    dt: datetime obj\n",
        "    form: format to return\n",
        "  \"\"\"\n",
        "  return datetime.datetime.strftime(dt,form)"
      ],
      "execution_count": 0,
      "outputs": []
    },
    {
      "cell_type": "code",
      "metadata": {
        "id": "eo2TM9PTBeaL",
        "colab_type": "code",
        "colab": {}
      },
      "source": [
        "def _update_data(resp_json,symbol):\n",
        "  \"\"\"\n",
        "    resp: the requests object\n",
        "    symbol: str\n",
        "  \"\"\"\n",
        "  last = resp_json['result']['last']\n",
        "  last_time = resp_json['result'][symbol][-1][2]\n",
        "  data = resp_json['result'][symbol]\n",
        "  return(last, last_time, data)"
      ],
      "execution_count": 0,
      "outputs": []
    },
    {
      "cell_type": "code",
      "metadata": {
        "id": "Md5sK3HeKIIB",
        "colab_type": "code",
        "colab": {}
      },
      "source": [
        "def _write_file(last, bigdata, symbol):\n",
        "  from_date = _datetime_to_str(_timestamp_to_datetime(float(bigdata[0][2])),'%Y-%m-%d %H:%M:%S')\n",
        "  to_date = _datetime_to_str(_timestamp_to_datetime(float(bigdata[-1][2])),'%Y-%m-%d %H:%M:%S')\n",
        "  file_name = 'Kraken_'+symbol+'_'+from_date+'_'+to_date+'_'+str(last)+'.csv'\n",
        "  with open(file_name, \"w\", newline=\"\") as f:\n",
        "    writer = csv.writer(f)\n",
        "    writer.writerows(bigdata)\n",
        "  print('Generated '+file_name)"
      ],
      "execution_count": 0,
      "outputs": []
    },
    {
      "cell_type": "code",
      "metadata": {
        "id": "55CkjKwAlqbc",
        "colab_type": "code",
        "colab": {}
      },
      "source": [
        "# Init values\n",
        "symbol = \"XLTCZUSD\"\n",
        "resp = requests.get('https://api.kraken.com/0/public/Trades?pair='+symbol+'&since=1524470967426846318')\n",
        "json_resp = resp.json()\n",
        "\n",
        "bigdata = json_resp['result'][symbol]\n",
        "first_time = json_resp['result'][symbol][0][2]\n",
        "last_time = json_resp['result'][symbol][-1][2]\n",
        "last = json_resp['result']['last']\n",
        "\n",
        "n = 1000000 # split file every n = 1,000,000 entries\n",
        "file_count = 0\n",
        "total_curr_len = 1\n",
        "end_time = '2020-01-01'\n",
        "end_time = datetime.datetime.timestamp(datetime.datetime.strptime(end_time,'%Y-%m-%d'))"
      ],
      "execution_count": 0,
      "outputs": []
    },
    {
      "cell_type": "code",
      "metadata": {
        "id": "WQa8na7cy5DF",
        "colab_type": "code",
        "outputId": "45d42e2c-1de2-4bcc-f910-2038f15a43da",
        "colab": {
          "base_uri": "https://localhost:8080/",
          "height": 51
        }
      },
      "source": [
        "while float(last_time) < end_time:\n",
        "\n",
        "  while True:\n",
        "    try:\n",
        "      resp = requests.get('https://api.kraken.com/0/public/Trades?pair='+symbol+'&since=' + str(last))\n",
        "      if resp.status_code == 200:\n",
        "        resp_json = resp.json()\n",
        "        last, last_time, data = _update_data(resp_json,symbol)\n",
        "        bigdata += data\n",
        "        total_curr_len += 1\n",
        "        \n",
        "        if (total_curr_len == 1000):\n",
        "          _write_file(last,bigdata,symbol)\n",
        "          bigdata = []\n",
        "          total_curr_len = 0\n",
        "\n",
        "      else:\n",
        "\n",
        "        print(resp.status_code)\n",
        "        break\n",
        "      time.sleep(5)\n",
        "    except Exception as e:\n",
        "      print(e)\n",
        "      print(resp_json)\n",
        "      time.sleep(30)\n",
        "    else:\n",
        "      break\n",
        "\n",
        "_write_file(last,bigdata,symbol)"
      ],
      "execution_count": 0,
      "outputs": [
        {
          "output_type": "stream",
          "text": [
            "Generated Kraken_XLTCZUSD_2018-04-23 08:10:53_2019-07-17 02:11:42_1563329502230952685.csv\n",
            "Generated Kraken_XLTCZUSD_2019-07-17 02:11:44_2020-01-02 07:46:57_1577951217828517304.csv\n"
          ],
          "name": "stdout"
        }
      ]
    }
  ]
}